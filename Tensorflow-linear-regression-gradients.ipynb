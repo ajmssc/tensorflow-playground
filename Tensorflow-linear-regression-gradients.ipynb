{
 "cells": [
  {
   "cell_type": "code",
   "execution_count": 48,
   "metadata": {},
   "outputs": [
    {
     "name": "stdout",
     "output_type": "stream",
     "text": [
      "ProximalAdagrad optimization finished!\n",
      "ProximalAdagrad training cost= 5.76368 W= 2.60425 b= 5.05145 \n",
      "\n",
      "ProximalGradientDescent optimization finished!\n",
      "ProximalGradientDescent training cost= 8.68471 W= 2.60347 b= 3.78258 \n",
      "\n",
      "Adam optimization finished!\n",
      "Adam training cost= 0.0244684 W= 2.50651 b= 11.5481 \n",
      "\n",
      "Adadelta optimization finished!\n",
      "Adadelta training cost= 15133.0 W= -0.297889 b= 0.285228 \n",
      "\n",
      "Ftrl optimization finished!\n",
      "Ftrl training cost= 8.61163 W= 2.62743 b= 3.5065 \n",
      "\n",
      "RMSProp optimization finished!\n",
      "RMSProp training cost= 3.95578 W= 2.45163 b= 12.0193 \n",
      "\n",
      "Adagrad optimization finished!\n",
      "Adagrad training cost= 6.35836 W= 2.6091 b= 4.70144 \n",
      "\n",
      "Momentum optimization finished!\n",
      "Momentum training cost= 9.5888 W= 2.60853 b= 3.36977 \n",
      "\n"
     ]
    }
   ],
   "source": [
    "from __future__ import print_function\n",
    "\n",
    "import tensorflow as tf\n",
    "import numpy as np\n",
    "import matplotlib.pyplot as plt\n",
    "rng = np.random\n",
    "\n",
    "sess = tf.InteractiveSession()\n",
    "# Parameters\n",
    "learning_rate = 0.04\n",
    "training_epochs = 30\n",
    "display_step = 50\n",
    "n_samples = 1000\n",
    "\n",
    "\n",
    "\n",
    "# Training Data\n",
    "train_X = tf.random_uniform(shape=[n_samples], minval=1, maxval=100, dtype=tf.float32).eval()\n",
    "train_Y = train_X * 2.5 + 12\n",
    "\n",
    "optimizers = { 'Adam': tf.train.AdamOptimizer(),\n",
    "            'Adadelta': tf.train.AdadeltaOptimizer(),\n",
    "            'Adagrad': tf.train.AdagradOptimizer(learning_rate),\n",
    "#             'AdagradDA': tf.train.AdagradDAOptimizer(learning_rate, None),\n",
    "            'Momentum' : tf.train.MomentumOptimizer(learning_rate, 0.01),\n",
    "            'Ftrl': tf.train.FtrlOptimizer(learning_rate),\n",
    "            'ProximalGradientDescent': tf.train.ProximalGradientDescentOptimizer(learning_rate),\n",
    "            'ProximalAdagrad': tf.train.ProximalAdagradOptimizer(learning_rate),\n",
    "            'RMSProp': tf.train.RMSPropOptimizer(learning_rate)\n",
    "             }\n",
    "errors = {}\n",
    "#     #optimizer = tf.train.GradientDescentOptimizer(learning_rate).minimize(cost)\n",
    "#     optimizer = tf.train.AdamOptimizer().minimize(cost)\n",
    "\n",
    "for opt_name, opt in optimizers.iteritems():\n",
    "    X = tf.placeholder(tf.float32)\n",
    "    Y = tf.placeholder(tf.float32)\n",
    "    W = tf.Variable(rng.randn(), name=\"weight\")\n",
    "    b = tf.Variable(rng.randn(), name=\"bias\")\n",
    "    pred = W * X + b\n",
    "    cost = tf.reduce_sum((pred - Y)**2) / (2 * n_samples)\n",
    "\n",
    "    optimizer = opt.minimize(cost)\n",
    "    errors[opt_name] = []\n",
    "    init = tf.global_variables_initializer()\n",
    "    sess.run(init)\n",
    "\n",
    "    for epoch in range(training_epochs):\n",
    "        for (x, y) in zip(train_X, train_Y):\n",
    "            sess.run(optimizer, feed_dict={X: x, Y: y})\n",
    "\n",
    "        #if (epoch+1) % display_step == 0:\n",
    "        c = sess.run(cost, feed_dict={X: train_X, Y: train_Y})\n",
    "        errors[opt_name].append(c)\n",
    "        #print(\"Epoch:\", '%04d' % (epoch+1), \"cost=\", \"{:.9f}\".format(c), \\\n",
    "        #        \"W=\", sess.run(W), \"b=\", sess.run(b))\n",
    "\n",
    "    print(opt_name + \" optimization finished!\")\n",
    "    training_cost = sess.run(cost, feed_dict={X: train_X, Y: train_Y})\n",
    "    print(opt_name + \" training cost=\", training_cost, \"W=\", sess.run(W), \"b=\", sess.run(b), '\\n')\n",
    "\n"
   ]
  },
  {
   "cell_type": "code",
   "execution_count": 29,
   "metadata": {},
   "outputs": [
    {
     "data": {
      "image/png": "[encoded data removed]",
      "text/plain": [
       "<matplotlib.figure.Figure at 0x7f57a3ffd190>"
      ]
     },
     "metadata": {},
     "output_type": "display_data"
    },
    {
     "data": {
      "text/plain": [
       "<matplotlib.figure.Figure at 0x7f57a3f85590>"
      ]
     },
     "metadata": {},
     "output_type": "display_data"
    }
   ],
   "source": [
    "\n",
    "for opt_name, error in errors.iteritems():\n",
    "    plt.plot(np.arange(training_epochs), error, label=opt_name)\n",
    "\n",
    "plt.legend()\n",
    "plt.rcParams[\"figure.figsize\"] = [12., 7.]\n",
    "plt.show()"
   ]
  },
  {
   "cell_type": "code",
   "execution_count": null,
   "metadata": {
    "collapsed": true
   },
   "outputs": [],
   "source": []
  }
 ],
 "metadata": {
  "kernelspec": {
   "display_name": "Python 2",
   "language": "python",
   "name": "python2"
  }
 },
 "nbformat": 4,
 "nbformat_minor": 2
}
